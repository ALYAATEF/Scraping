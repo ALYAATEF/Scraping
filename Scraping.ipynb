{
 "cells": [
  {
   "cell_type": "code",
   "execution_count": 1,
   "id": "58def531",
   "metadata": {},
   "outputs": [],
   "source": [
    "import requests\n",
    "from bs4 import BeautifulSoup\n",
    "from bs4 import BeautifulSoup as bs "
   ]
  },
  {
   "cell_type": "code",
   "execution_count": 26,
   "id": "4d39e7b9",
   "metadata": {},
   "outputs": [
    {
     "data": {
      "text/plain": [
       "b'<!DOCTYPE html>\\n<html lang=\"en\">\\n<head>\\n    <meta charset=\"utf-8\">\\n    <meta http-equiv=\"X-UA-Compatible\" content=\"IE=edge\">\\n    <meta name=\"viewport\" content=\"width=device-width, initial-scale=1.0, shrink-to-fit=no\">\\n    <meta http-equiv=\"expires\" content=\"Thu Dec 08 2022 18:30:44 GMT+0200\" />\\n\\n    <meta http-equiv=\"Pragma\" content=\"no-cache\">\\n    <meta http-equiv=\"cache-control\" content=\"no-cache, no-store, must-revalidate\">\\n\\n    <title data-react-helmet=\"true\">Job Search | WUZZUF</title>\\n\\n<me'"
      ]
     },
     "execution_count": 26,
     "metadata": {},
     "output_type": "execute_result"
    }
   ],
   "source": [
    "response = requests.get(\"https://wuzzuf.net/search/jobs/?q=data+analyst&a=navbl\")\n",
    "response.content[:500]"
   ]
  },
  {
   "cell_type": "code",
   "execution_count": 20,
   "id": "486d17a2",
   "metadata": {},
   "outputs": [],
   "source": [
    "soup = BeautifulSoup(response.content, 'html.parser')"
   ]
  },
  {
   "cell_type": "code",
   "execution_count": 24,
   "id": "5118458b",
   "metadata": {},
   "outputs": [
    {
     "data": {
      "text/plain": [
       "15"
      ]
     },
     "execution_count": 24,
     "metadata": {},
     "output_type": "execute_result"
    }
   ],
   "source": [
    "jobs = soup.findAll('div', attrs={\"class\":\"css-1gatmva\"})\n",
    "len(jobs)"
   ]
  },
  {
   "cell_type": "markdown",
   "id": "25d8f709",
   "metadata": {},
   "source": [
    "### scraping all attributes of the first job"
   ]
  },
  {
   "cell_type": "code",
   "execution_count": 59,
   "id": "05e1ea7f",
   "metadata": {},
   "outputs": [
    {
     "data": {
      "text/plain": [
       "'Senior Data Analyst'"
      ]
     },
     "execution_count": 59,
     "metadata": {},
     "output_type": "execute_result"
    }
   ],
   "source": [
    "job_title = jobs[0].find_all('h2', {'class': \"css-m604qf\"})\n",
    "job_title[0].text.strip()"
   ]
  },
  {
   "cell_type": "code",
   "execution_count": 60,
   "id": "21ae69d2",
   "metadata": {},
   "outputs": [
    {
     "data": {
      "text/plain": [
       "'Fawry for Banking Technology and Electronic Payments S.A.E -'"
      ]
     },
     "execution_count": 60,
     "metadata": {},
     "output_type": "execute_result"
    }
   ],
   "source": [
    "company_name = jobs[0].find_all('a', {'class': \"css-17s97q8\"})\n",
    "company_name[0].text.strip()"
   ]
  },
  {
   "cell_type": "code",
   "execution_count": 61,
   "id": "90aa04b3",
   "metadata": {},
   "outputs": [
    {
     "data": {
      "text/plain": [
       "'Full Time'"
      ]
     },
     "execution_count": 61,
     "metadata": {},
     "output_type": "execute_result"
    }
   ],
   "source": [
    "time = jobs[0].find_all('span', {'class': \"css-1ve4b75\"})\n",
    "time[0].text.strip()"
   ]
  },
  {
   "cell_type": "code",
   "execution_count": 80,
   "id": "a9cafe72",
   "metadata": {},
   "outputs": [
    {
     "data": {
      "text/plain": [
       "'Smart Village, Giza, Egypt'"
      ]
     },
     "execution_count": 80,
     "metadata": {},
     "output_type": "execute_result"
    }
   ],
   "source": [
    "company_location = jobs[0].find_all('span', {'class': \"css-5wys0k\"})\n",
    "company_location[0].text.strip()"
   ]
  },
  {
   "cell_type": "code",
   "execution_count": 122,
   "id": "b3b6aada",
   "metadata": {},
   "outputs": [
    {
     "data": {
      "text/plain": [
       "'Experienced · Business Development · Analyst/Research · Analysis · analyticalAnalyst · Business Intelligence · businessDataData Analysis · Information Technology (IT)'"
      ]
     },
     "execution_count": 122,
     "metadata": {},
     "output_type": "execute_result"
    }
   ],
   "source": [
    "''.join([x.text for x in jobs[0].select('div.css-y4udm8 a')][1:])"
   ]
  },
  {
   "cell_type": "markdown",
   "id": "3157c75c",
   "metadata": {},
   "source": [
    "### scraping all jobs attributes into a csv file"
   ]
  },
  {
   "cell_type": "code",
   "execution_count": 114,
   "id": "9a7cc77d",
   "metadata": {},
   "outputs": [],
   "source": [
    "import csv"
   ]
  },
  {
   "cell_type": "code",
   "execution_count": 126,
   "id": "d12bd738",
   "metadata": {},
   "outputs": [],
   "source": [
    "with open('Data_Analyst_Jobs.csv', 'w', encoding='utf-8') as file:\n",
    "    writer_obj = csv.writer(file)\n",
    "    writer_obj.writerow(['Job_Title', 'Company_Name', 'Time', 'Company_Location', 'Job_Skills'])\n",
    "    \n",
    "    for job in jobs:\n",
    "            job_title = job.find_all('h2', {'class': \"css-m604qf\"})\n",
    "            job_title = job_title[0].text.strip()\n",
    "\n",
    "            company_name = job.find_all('a', {'class': \"css-17s97q8\"})\n",
    "            company_name = company_name[0].text\n",
    "\n",
    "            time = job.find_all('span', {'class': \"css-1ve4b75\"})\n",
    "            time = time[0].text.strip()\n",
    "\n",
    "            company_location = job.find_all('span', {'class': \"css-5wys0k\"})\n",
    "            company_location = company_location[0].text.strip()\n",
    "\n",
    "            job_skills= ''.join([x.text for x in job.select('div.css-y4udm8 a')][1:])\n",
    "\n",
    "            writer_obj.writerow([job_title, company_name, time, company_location, job_skills])\n"
   ]
  },
  {
   "cell_type": "markdown",
   "id": "11def402",
   "metadata": {},
   "source": [
    "### cheking our data"
   ]
  },
  {
   "cell_type": "code",
   "execution_count": 127,
   "id": "dfcb0ff1",
   "metadata": {},
   "outputs": [],
   "source": [
    "import pandas as pd"
   ]
  },
  {
   "cell_type": "code",
   "execution_count": 128,
   "id": "78c20bb8",
   "metadata": {},
   "outputs": [
    {
     "data": {
      "text/html": [
       "<div>\n",
       "<style scoped>\n",
       "    .dataframe tbody tr th:only-of-type {\n",
       "        vertical-align: middle;\n",
       "    }\n",
       "\n",
       "    .dataframe tbody tr th {\n",
       "        vertical-align: top;\n",
       "    }\n",
       "\n",
       "    .dataframe thead th {\n",
       "        text-align: right;\n",
       "    }\n",
       "</style>\n",
       "<table border=\"1\" class=\"dataframe\">\n",
       "  <thead>\n",
       "    <tr style=\"text-align: right;\">\n",
       "      <th></th>\n",
       "      <th>Job_Title</th>\n",
       "      <th>Company_Name</th>\n",
       "      <th>Time</th>\n",
       "      <th>Company_Location</th>\n",
       "      <th>Job_Skills</th>\n",
       "    </tr>\n",
       "  </thead>\n",
       "  <tbody>\n",
       "    <tr>\n",
       "      <th>0</th>\n",
       "      <td>Senior Data Analyst</td>\n",
       "      <td>Fawry for Banking Technology and Electronic Pa...</td>\n",
       "      <td>Full Time</td>\n",
       "      <td>Smart Village, Giza, Egypt</td>\n",
       "      <td>Experienced · Business Development · Analyst/R...</td>\n",
       "    </tr>\n",
       "    <tr>\n",
       "      <th>1</th>\n",
       "      <td>Data Analyst</td>\n",
       "      <td>Confidential -</td>\n",
       "      <td>Full Time</td>\n",
       "      <td>Heliopolis, Cairo, Egypt</td>\n",
       "      <td>Experienced · Business Development · Analyst/R...</td>\n",
       "    </tr>\n",
       "    <tr>\n",
       "      <th>2</th>\n",
       "      <td>Data Analyst</td>\n",
       "      <td>Othaim -</td>\n",
       "      <td>Full Time</td>\n",
       "      <td>Katameya, Cairo, Egypt</td>\n",
       "      <td>Experienced · IT/Software Development · Analys...</td>\n",
       "    </tr>\n",
       "    <tr>\n",
       "      <th>3</th>\n",
       "      <td>Data Analyst</td>\n",
       "      <td>Al Ahly capital holding - Al Ahly Tamkeen -</td>\n",
       "      <td>Full Time</td>\n",
       "      <td>Zamalek, Cairo, Egypt</td>\n",
       "      <td>Experienced · IT/Software Development · Analys...</td>\n",
       "    </tr>\n",
       "    <tr>\n",
       "      <th>4</th>\n",
       "      <td>Data Analyst</td>\n",
       "      <td>Hands of Hope Physical Therapy &amp; Wellness -</td>\n",
       "      <td>Full Time</td>\n",
       "      <td>Maadi, Cairo, Egypt</td>\n",
       "      <td>Experienced · R&amp;D/Science · IT/Software Develo...</td>\n",
       "    </tr>\n",
       "  </tbody>\n",
       "</table>\n",
       "</div>"
      ],
      "text/plain": [
       "             Job_Title                                       Company_Name  \\\n",
       "0  Senior Data Analyst  Fawry for Banking Technology and Electronic Pa...   \n",
       "1         Data Analyst                                     Confidential -   \n",
       "2         Data Analyst                                           Othaim -   \n",
       "3         Data Analyst        Al Ahly capital holding - Al Ahly Tamkeen -   \n",
       "4         Data Analyst        Hands of Hope Physical Therapy & Wellness -   \n",
       "\n",
       "        Time            Company_Location  \\\n",
       "0  Full Time  Smart Village, Giza, Egypt   \n",
       "1  Full Time    Heliopolis, Cairo, Egypt   \n",
       "2  Full Time      Katameya, Cairo, Egypt   \n",
       "3  Full Time       Zamalek, Cairo, Egypt   \n",
       "4  Full Time         Maadi, Cairo, Egypt   \n",
       "\n",
       "                                          Job_Skills  \n",
       "0  Experienced · Business Development · Analyst/R...  \n",
       "1  Experienced · Business Development · Analyst/R...  \n",
       "2  Experienced · IT/Software Development · Analys...  \n",
       "3  Experienced · IT/Software Development · Analys...  \n",
       "4  Experienced · R&D/Science · IT/Software Develo...  "
      ]
     },
     "execution_count": 128,
     "metadata": {},
     "output_type": "execute_result"
    }
   ],
   "source": [
    "df= pd.read_csv('Data_Analyst_Jobs.csv')\n",
    "df.head()"
   ]
  },
  {
   "cell_type": "code",
   "execution_count": 129,
   "id": "8e73d38e",
   "metadata": {},
   "outputs": [
    {
     "name": "stdout",
     "output_type": "stream",
     "text": [
      "<class 'pandas.core.frame.DataFrame'>\n",
      "RangeIndex: 15 entries, 0 to 14\n",
      "Data columns (total 5 columns):\n",
      " #   Column            Non-Null Count  Dtype \n",
      "---  ------            --------------  ----- \n",
      " 0   Job_Title         15 non-null     object\n",
      " 1   Company_Name      15 non-null     object\n",
      " 2   Time              15 non-null     object\n",
      " 3   Company_Location  15 non-null     object\n",
      " 4   Job_Skills        15 non-null     object\n",
      "dtypes: object(5)\n",
      "memory usage: 728.0+ bytes\n"
     ]
    }
   ],
   "source": [
    "df.info()"
   ]
  }
 ],
 "metadata": {
  "kernelspec": {
   "display_name": "Python 3 (ipykernel)",
   "language": "python",
   "name": "python3"
  },
  "language_info": {
   "codemirror_mode": {
    "name": "ipython",
    "version": 3
   },
   "file_extension": ".py",
   "mimetype": "text/x-python",
   "name": "python",
   "nbconvert_exporter": "python",
   "pygments_lexer": "ipython3",
   "version": "3.9.7"
  }
 },
 "nbformat": 4,
 "nbformat_minor": 5
}
